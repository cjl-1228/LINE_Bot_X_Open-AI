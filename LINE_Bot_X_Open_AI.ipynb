{
  "nbformat": 4,
  "nbformat_minor": 0,
  "metadata": {
    "colab": {
      "provenance": []
    },
    "kernelspec": {
      "name": "python3",
      "display_name": "Python 3"
    },
    "language_info": {
      "name": "python"
    }
  },
  "cells": [
    {
      "cell_type": "code",
      "execution_count": 1,
      "metadata": {
        "colab": {
          "base_uri": "https://localhost:8080/"
        },
        "id": "9Bn61Rl67Sa_",
        "outputId": "3b9a3813-9a3b-4504-d9d4-5157e0579dcc"
      },
      "outputs": [
        {
          "output_type": "stream",
          "name": "stdout",
          "text": [
            "Looking in indexes: https://pypi.org/simple, https://us-python.pkg.dev/colab-wheels/public/simple/\n",
            "Collecting openai\n",
            "  Downloading openai-0.26.3.tar.gz (55 kB)\n",
            "\u001b[2K     \u001b[90m━━━━━━━━━━━━━━━━━━━━━━━━━━━━━━━━━━━━━━━\u001b[0m \u001b[32m55.5/55.5 KB\u001b[0m \u001b[31m750.1 kB/s\u001b[0m eta \u001b[36m0:00:00\u001b[0m\n",
            "\u001b[?25h  Installing build dependencies ... \u001b[?25l\u001b[?25hdone\n",
            "  Getting requirements to build wheel ... \u001b[?25l\u001b[?25hdone\n",
            "  Preparing metadata (pyproject.toml) ... \u001b[?25l\u001b[?25hdone\n",
            "Requirement already satisfied: tqdm in /usr/local/lib/python3.8/dist-packages (from openai) (4.64.1)\n",
            "Requirement already satisfied: requests>=2.20 in /usr/local/lib/python3.8/dist-packages (from openai) (2.25.1)\n",
            "Requirement already satisfied: aiohttp in /usr/local/lib/python3.8/dist-packages (from openai) (3.8.3)\n",
            "Requirement already satisfied: urllib3<1.27,>=1.21.1 in /usr/local/lib/python3.8/dist-packages (from requests>=2.20->openai) (1.24.3)\n",
            "Requirement already satisfied: chardet<5,>=3.0.2 in /usr/local/lib/python3.8/dist-packages (from requests>=2.20->openai) (4.0.0)\n",
            "Requirement already satisfied: idna<3,>=2.5 in /usr/local/lib/python3.8/dist-packages (from requests>=2.20->openai) (2.10)\n",
            "Requirement already satisfied: certifi>=2017.4.17 in /usr/local/lib/python3.8/dist-packages (from requests>=2.20->openai) (2022.12.7)\n",
            "Requirement already satisfied: attrs>=17.3.0 in /usr/local/lib/python3.8/dist-packages (from aiohttp->openai) (22.2.0)\n",
            "Requirement already satisfied: frozenlist>=1.1.1 in /usr/local/lib/python3.8/dist-packages (from aiohttp->openai) (1.3.3)\n",
            "Requirement already satisfied: async-timeout<5.0,>=4.0.0a3 in /usr/local/lib/python3.8/dist-packages (from aiohttp->openai) (4.0.2)\n",
            "Requirement already satisfied: multidict<7.0,>=4.5 in /usr/local/lib/python3.8/dist-packages (from aiohttp->openai) (6.0.4)\n",
            "Requirement already satisfied: charset-normalizer<3.0,>=2.0 in /usr/local/lib/python3.8/dist-packages (from aiohttp->openai) (2.1.1)\n",
            "Requirement already satisfied: aiosignal>=1.1.2 in /usr/local/lib/python3.8/dist-packages (from aiohttp->openai) (1.3.1)\n",
            "Requirement already satisfied: yarl<2.0,>=1.0 in /usr/local/lib/python3.8/dist-packages (from aiohttp->openai) (1.8.2)\n",
            "Building wheels for collected packages: openai\n",
            "  Building wheel for openai (pyproject.toml) ... \u001b[?25l\u001b[?25hdone\n",
            "  Created wheel for openai: filename=openai-0.26.3-py3-none-any.whl size=67489 sha256=07197fff1d257bb44ff6821ebedb06672c5e3367a054408708f85b036fbac92f\n",
            "  Stored in directory: /root/.cache/pip/wheels/fa/6b/ac/76fa8f79ea603d4bd896c0d185e970a7dbfab23df6bb14c351\n",
            "Successfully built openai\n",
            "Installing collected packages: openai\n",
            "Successfully installed openai-0.26.3\n"
          ]
        }
      ],
      "source": [
        "!pip install openai"
      ]
    },
    {
      "cell_type": "code",
      "source": [
        "import openai\n",
        "openai.api_key = \""\n",
        "def askchatgpt(Question):\n",
        "    response = openai.Completion.create(\n",
        "    model=\"text-davinci-003\",\n",
        "    prompt=Question,\n",
        "    temperature=0,\n",
        "    max_tokens=500,\n",
        "    top_p=1,\n",
        "    frequency_penalty=0.5,\n",
        "    presence_penalty=0\n",
        "    )\n",
        "    return response[\"choices\"][0][\"text\"].strip()"
      ],
      "metadata": {
        "id": "Ki6D3Zot7hTn"
      },
      "execution_count": 2,
      "outputs": []
    },
    {
      "cell_type": "code",
      "source": [
        "!wget https://bin.equinox.io/c/bNyj1mQVY4c/ngrok-v3-stable-linux-amd64.tgz -O ngrok-v3-stable-linux-amd64.tgz\n",
        "!tar xvzf ngrok-v3-stable-linux-amd64.tgz"
      ],
      "metadata": {
        "colab": {
          "base_uri": "https://localhost:8080/"
        },
        "id": "ROEphgp973uW",
        "outputId": "33fe6686-cdcf-49fb-f777-d9f33d2c4535"
      },
      "execution_count": 3,
      "outputs": [
        {
          "output_type": "stream",
          "name": "stdout",
          "text": [
            "--2023-01-26 11:27:12--  https://bin.equinox.io/c/bNyj1mQVY4c/ngrok-v3-stable-linux-amd64.tgz\n",
            "Resolving bin.equinox.io (bin.equinox.io)... 54.161.241.46, 54.237.133.81, 18.205.222.128, ...\n",
            "Connecting to bin.equinox.io (bin.equinox.io)|54.161.241.46|:443... connected.\n",
            "HTTP request sent, awaiting response... 200 OK\n",
            "Length: 9300212 (8.9M) [application/octet-stream]\n",
            "Saving to: ‘ngrok-v3-stable-linux-amd64.tgz’\n",
            "\n",
            "ngrok-v3-stable-lin 100%[===================>]   8.87M  5.34MB/s    in 1.7s    \n",
            "\n",
            "2023-01-26 11:27:14 (5.34 MB/s) - ‘ngrok-v3-stable-linux-amd64.tgz’ saved [9300212/9300212]\n",
            "\n",
            "ngrok\n"
          ]
        }
      ]
    },
    {
      "cell_type": "code",
      "source": [
        "!pip install pyngrok"
      ],
      "metadata": {
        "colab": {
          "base_uri": "https://localhost:8080/"
        },
        "id": "OwE41rGu79Jk",
        "outputId": "1c432763-1083-47ae-fd0c-5cec59aa0aae"
      },
      "execution_count": 4,
      "outputs": [
        {
          "output_type": "stream",
          "name": "stdout",
          "text": [
            "Looking in indexes: https://pypi.org/simple, https://us-python.pkg.dev/colab-wheels/public/simple/\n",
            "Collecting pyngrok\n",
            "  Downloading pyngrok-5.2.1.tar.gz (761 kB)\n",
            "\u001b[2K     \u001b[90m━━━━━━━━━━━━━━━━━━━━━━━━━━━━━━━━━━━━━━\u001b[0m \u001b[32m761.3/761.3 KB\u001b[0m \u001b[31m12.1 MB/s\u001b[0m eta \u001b[36m0:00:00\u001b[0m\n",
            "\u001b[?25h  Preparing metadata (setup.py) ... \u001b[?25l\u001b[?25hdone\n",
            "Requirement already satisfied: PyYAML in /usr/local/lib/python3.8/dist-packages (from pyngrok) (6.0)\n",
            "Building wheels for collected packages: pyngrok\n",
            "  Building wheel for pyngrok (setup.py) ... \u001b[?25l\u001b[?25hdone\n",
            "  Created wheel for pyngrok: filename=pyngrok-5.2.1-py3-none-any.whl size=19792 sha256=9f2ef40f5adc41ee91fddb95d4d73aa61f9aab18fd6a729b1b74c5c579be41f1\n",
            "  Stored in directory: /root/.cache/pip/wheels/5d/f2/70/526da675d32f17577ec47ac4c663084efe39d47c826b6c3bb1\n",
            "Successfully built pyngrok\n",
            "Installing collected packages: pyngrok\n",
            "Successfully installed pyngrok-5.2.1\n"
          ]
        }
      ]
    },
    {
      "cell_type": "code",
      "source": [
        "from pyngrok import ngrok, conf\n",
        "\n",
        "# 設定token\n",
        "# ngrok.set_auth_token(\"申請的AuthToken\")\n",
        "ngrok.set_auth_token(\"21xK0y106uLkMGjDR4MczNt25PC_4bcNW3ZqZFj9uh5QSX3Vx\")\n",
        "# conf.get_default().region = \"us\""
      ],
      "metadata": {
        "colab": {
          "base_uri": "https://localhost:8080/"
        },
        "id": "2J_V0tKu8AI4",
        "outputId": "bc83cf66-9fbc-4f77-83ca-08d5619a9446"
      },
      "execution_count": 5,
      "outputs": [
        {
          "output_type": "stream",
          "name": "stdout",
          "text": []
        }
      ]
    },
    {
      "cell_type": "code",
      "source": [
        "def connNgrok():\n",
        "    port = 5000\n",
        "    public_url = ngrok.connect(port, bind_tls=True).public_url\n",
        "    print(\" * ngrok tunnel \\\"{}\\\" -> \\\"http://127.0.0.1:{}/\\\"\".format(public_url, port))"
      ],
      "metadata": {
        "id": "esyci-Pg8D3y"
      },
      "execution_count": 6,
      "outputs": []
    },
    {
      "cell_type": "code",
      "source": [
        "pip install line-bot-sdk"
      ],
      "metadata": {
        "colab": {
          "base_uri": "https://localhost:8080/"
        },
        "id": "mS3lcoda8EwB",
        "outputId": "4503b592-9f3d-49f8-e17a-ecc7a6918b75"
      },
      "execution_count": 8,
      "outputs": [
        {
          "output_type": "stream",
          "name": "stdout",
          "text": [
            "Looking in indexes: https://pypi.org/simple, https://us-python.pkg.dev/colab-wheels/public/simple/\n",
            "Requirement already satisfied: line-bot-sdk in /usr/local/lib/python3.8/dist-packages (2.4.1)\n",
            "Requirement already satisfied: future in /usr/local/lib/python3.8/dist-packages (from line-bot-sdk) (0.16.0)\n",
            "Requirement already satisfied: requests==2.28.1 in /usr/local/lib/python3.8/dist-packages (from line-bot-sdk) (2.28.1)\n",
            "Requirement already satisfied: aiohttp==3.8.3 in /usr/local/lib/python3.8/dist-packages (from line-bot-sdk) (3.8.3)\n",
            "Requirement already satisfied: yarl<2.0,>=1.0 in /usr/local/lib/python3.8/dist-packages (from aiohttp==3.8.3->line-bot-sdk) (1.8.2)\n",
            "Requirement already satisfied: aiosignal>=1.1.2 in /usr/local/lib/python3.8/dist-packages (from aiohttp==3.8.3->line-bot-sdk) (1.3.1)\n",
            "Requirement already satisfied: attrs>=17.3.0 in /usr/local/lib/python3.8/dist-packages (from aiohttp==3.8.3->line-bot-sdk) (22.2.0)\n",
            "Requirement already satisfied: multidict<7.0,>=4.5 in /usr/local/lib/python3.8/dist-packages (from aiohttp==3.8.3->line-bot-sdk) (6.0.4)\n",
            "Requirement already satisfied: async-timeout<5.0,>=4.0.0a3 in /usr/local/lib/python3.8/dist-packages (from aiohttp==3.8.3->line-bot-sdk) (4.0.2)\n",
            "Requirement already satisfied: charset-normalizer<3.0,>=2.0 in /usr/local/lib/python3.8/dist-packages (from aiohttp==3.8.3->line-bot-sdk) (2.1.1)\n",
            "Requirement already satisfied: frozenlist>=1.1.1 in /usr/local/lib/python3.8/dist-packages (from aiohttp==3.8.3->line-bot-sdk) (1.3.3)\n",
            "Requirement already satisfied: urllib3<1.27,>=1.21.1 in /usr/local/lib/python3.8/dist-packages (from requests==2.28.1->line-bot-sdk) (1.24.3)\n",
            "Requirement already satisfied: idna<4,>=2.5 in /usr/local/lib/python3.8/dist-packages (from requests==2.28.1->line-bot-sdk) (2.10)\n",
            "Requirement already satisfied: certifi>=2017.4.17 in /usr/local/lib/python3.8/dist-packages (from requests==2.28.1->line-bot-sdk) (2022.12.7)\n"
          ]
        }
      ]
    },
    {
      "cell_type": "code",
      "source": [
        "from flask import Flask, request, abort\n",
        "\n",
        "from linebot import (\n",
        "    LineBotApi, WebhookHandler\n",
        ")\n",
        "from linebot.exceptions import (\n",
        "    InvalidSignatureError\n",
        ")\n",
        "from linebot.models import (\n",
        "    MessageEvent, TextMessage, TextSendMessage,\n",
        ")\n",
        "\n",
        "connNgrok()\n",
        "app = Flask(__name__)\n",
        "\n",
        "line_bot_api = LineBotApi('KDOobqKDhmH6BbJZk7vm3di2cES6NqSgek7j+V29ToLMJrUkfh1i7/EBn0VTwtaIRL9uyJIfO7GyXAOfddEFRmopwfZjeBu2HCcMnLEGSdHKMxgKlLKOk3SlsUJXeiRPOCZBCHua+A3/R1j1vln5nAdB04t89/1O/w1cDnyilFU=')\n",
        "\n",
        "handler = WebhookHandler('8b7e95bc9ba9e3becd2efe906e647e05')\n",
        "\n",
        "\n",
        "@app.route(\"/callback\", methods=['POST'])\n",
        "def callback():\n",
        "    # get X-Line-Signature header value\n",
        "    signature = request.headers['X-Line-Signature']\n",
        "\n",
        "    # get request body as text\n",
        "    body = request.get_data(as_text=True)\n",
        "    app.logger.info(\"Request body: \" + body)\n",
        "\n",
        "    # handle webhook body\n",
        "    try:\n",
        "        handler.handle(body, signature)\n",
        "    except InvalidSignatureError:\n",
        "        print(\"Invalid signature. Please check your channel access token/channel secret.\")\n",
        "        abort(400)\n",
        "\n",
        "    return 'OK'\n",
        "\n",
        "\n",
        "@handler.add(MessageEvent, message=TextMessage)\n",
        "def handle_message(event):\n",
        "    line_bot_api.reply_message(\n",
        "        event.reply_token,\n",
        "        TextSendMessage(text=askchatgpt(event.message.text)))\n",
        "\n",
        "\n",
        "if __name__ == \"__main__\":\n",
        "    app.run()"
      ],
      "metadata": {
        "colab": {
          "base_uri": "https://localhost:8080/"
        },
        "id": "I4BrKPmq8Op0",
        "outputId": "4c52de4b-c937-4987-a696-4253fe30de19"
      },
      "execution_count": 9,
      "outputs": [
        {
          "output_type": "stream",
          "name": "stdout",
          "text": [
            " * ngrok tunnel \"https://006c-35-201-133-237.ngrok.io\" -> \"http://127.0.0.1:5000/\"\n",
            " * Serving Flask app \"__main__\" (lazy loading)\n",
            " * Environment: production\n",
            "\u001b[31m   WARNING: This is a development server. Do not use it in a production deployment.\u001b[0m\n",
            "\u001b[2m   Use a production WSGI server instead.\u001b[0m\n",
            " * Debug mode: off\n"
          ]
        },
        {
          "output_type": "stream",
          "name": "stderr",
          "text": [
            "INFO:werkzeug: * Running on http://127.0.0.1:5000/ (Press CTRL+C to quit)\n",
            "INFO:werkzeug:127.0.0.1 - - [26/Jan/2023 11:28:10] \"\u001b[33mGET / HTTP/1.1\u001b[0m\" 404 -\n",
            "INFO:werkzeug:127.0.0.1 - - [26/Jan/2023 11:28:10] \"\u001b[33mGET /favicon.ico HTTP/1.1\u001b[0m\" 404 -\n",
            "INFO:werkzeug:127.0.0.1 - - [26/Jan/2023 11:28:24] \"\u001b[37mPOST /callback HTTP/1.1\u001b[0m\" 200 -\n",
            "INFO:werkzeug:127.0.0.1 - - [26/Jan/2023 11:29:04] \"\u001b[37mPOST /callback HTTP/1.1\u001b[0m\" 200 -\n",
            "INFO:werkzeug:127.0.0.1 - - [26/Jan/2023 11:29:17] \"\u001b[37mPOST /callback HTTP/1.1\u001b[0m\" 200 -\n",
            "INFO:werkzeug:127.0.0.1 - - [26/Jan/2023 11:30:02] \"\u001b[37mPOST /callback HTTP/1.1\u001b[0m\" 200 -\n",
            "INFO:werkzeug:127.0.0.1 - - [26/Jan/2023 11:30:27] \"\u001b[37mPOST /callback HTTP/1.1\u001b[0m\" 200 -\n"
          ]
        }
      ]
    }
  ]
}
